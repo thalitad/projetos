{
  "nbformat": 4,
  "nbformat_minor": 0,
  "metadata": {
    "colab": {
      "provenance": []
    },
    "kernelspec": {
      "name": "python3",
      "display_name": "Python 3"
    },
    "language_info": {
      "name": "python"
    }
  },
  "cells": [
    {
      "cell_type": "markdown",
      "source": [
        "# **Aplicação 1: Teste de Colesterol dos Colaboradores**\n",
        "Teste de Colesterol dos Colaboradores\n",
        "Uma empresa quer verificar como está o nível de colesterol de seus colaboradores para um novo programa da área de Saúde. Para isso, coletou amostras de sangue de 220 funcionários selecionados aleatoriamente, esse levantamento está no arquivo colesterol.xlsx (disponível em Materiais Complementares). Sabendo que é considerado aceitável um nível de colesterol de até 190mg/dL.\n",
        "\n",
        "Objetivo da empresa: Melhoria da qualidade de vida dos funcionários.\n",
        "\n",
        "Criar KPIs de saúde e ações e projetos.\n",
        "\n",
        "a) Construa o histograma e avalie se a distribuição do colesterol dos colaboradores se aproxima da Normal.\n",
        "\n",
        "b) Realize um Teste de Hipóteses para comparar se a média do colesterol está aceitável ou não."
      ],
      "metadata": {
        "id": "htZt4lpuD-pM"
      }
    },
    {
      "cell_type": "code",
      "execution_count": null,
      "metadata": {
        "id": "N8D4yXm_CRW-"
      },
      "outputs": [],
      "source": [
        "import pandas as pd\n",
        "import matplotlib.pyplot as plt\n",
        "import seaborn as sns\n",
        "import scipy.stats as stats"
      ]
    },
    {
      "cell_type": "code",
      "source": [
        "file_path = '/content/colesterol.xlsx'\n",
        "df= pd.read_excel(file_path)\n",
        "df.head()"
      ],
      "metadata": {
        "colab": {
          "base_uri": "https://localhost:8080/",
          "height": 206
        },
        "id": "9i5Cd9rfDW-v",
        "outputId": "be354c19-6414-42c3-9391-186f9527101a"
      },
      "execution_count": null,
      "outputs": [
        {
          "output_type": "execute_result",
          "data": {
            "text/plain": [
              "   Colesterol (mg/dL)\n",
              "0          180.776511\n",
              "1          176.468838\n",
              "2          203.572625\n",
              "3          205.731732\n",
              "4          162.098667"
            ],
            "text/html": [
              "\n",
              "  <div id=\"df-73127b21-a3f8-4bc6-8bc1-6319903848ba\" class=\"colab-df-container\">\n",
              "    <div>\n",
              "<style scoped>\n",
              "    .dataframe tbody tr th:only-of-type {\n",
              "        vertical-align: middle;\n",
              "    }\n",
              "\n",
              "    .dataframe tbody tr th {\n",
              "        vertical-align: top;\n",
              "    }\n",
              "\n",
              "    .dataframe thead th {\n",
              "        text-align: right;\n",
              "    }\n",
              "</style>\n",
              "<table border=\"1\" class=\"dataframe\">\n",
              "  <thead>\n",
              "    <tr style=\"text-align: right;\">\n",
              "      <th></th>\n",
              "      <th>Colesterol (mg/dL)</th>\n",
              "    </tr>\n",
              "  </thead>\n",
              "  <tbody>\n",
              "    <tr>\n",
              "      <th>0</th>\n",
              "      <td>180.776511</td>\n",
              "    </tr>\n",
              "    <tr>\n",
              "      <th>1</th>\n",
              "      <td>176.468838</td>\n",
              "    </tr>\n",
              "    <tr>\n",
              "      <th>2</th>\n",
              "      <td>203.572625</td>\n",
              "    </tr>\n",
              "    <tr>\n",
              "      <th>3</th>\n",
              "      <td>205.731732</td>\n",
              "    </tr>\n",
              "    <tr>\n",
              "      <th>4</th>\n",
              "      <td>162.098667</td>\n",
              "    </tr>\n",
              "  </tbody>\n",
              "</table>\n",
              "</div>\n",
              "    <div class=\"colab-df-buttons\">\n",
              "\n",
              "  <div class=\"colab-df-container\">\n",
              "    <button class=\"colab-df-convert\" onclick=\"convertToInteractive('df-73127b21-a3f8-4bc6-8bc1-6319903848ba')\"\n",
              "            title=\"Convert this dataframe to an interactive table.\"\n",
              "            style=\"display:none;\">\n",
              "\n",
              "  <svg xmlns=\"http://www.w3.org/2000/svg\" height=\"24px\" viewBox=\"0 -960 960 960\">\n",
              "    <path d=\"M120-120v-720h720v720H120Zm60-500h600v-160H180v160Zm220 220h160v-160H400v160Zm0 220h160v-160H400v160ZM180-400h160v-160H180v160Zm440 0h160v-160H620v160ZM180-180h160v-160H180v160Zm440 0h160v-160H620v160Z\"/>\n",
              "  </svg>\n",
              "    </button>\n",
              "\n",
              "  <style>\n",
              "    .colab-df-container {\n",
              "      display:flex;\n",
              "      gap: 12px;\n",
              "    }\n",
              "\n",
              "    .colab-df-convert {\n",
              "      background-color: #E8F0FE;\n",
              "      border: none;\n",
              "      border-radius: 50%;\n",
              "      cursor: pointer;\n",
              "      display: none;\n",
              "      fill: #1967D2;\n",
              "      height: 32px;\n",
              "      padding: 0 0 0 0;\n",
              "      width: 32px;\n",
              "    }\n",
              "\n",
              "    .colab-df-convert:hover {\n",
              "      background-color: #E2EBFA;\n",
              "      box-shadow: 0px 1px 2px rgba(60, 64, 67, 0.3), 0px 1px 3px 1px rgba(60, 64, 67, 0.15);\n",
              "      fill: #174EA6;\n",
              "    }\n",
              "\n",
              "    .colab-df-buttons div {\n",
              "      margin-bottom: 4px;\n",
              "    }\n",
              "\n",
              "    [theme=dark] .colab-df-convert {\n",
              "      background-color: #3B4455;\n",
              "      fill: #D2E3FC;\n",
              "    }\n",
              "\n",
              "    [theme=dark] .colab-df-convert:hover {\n",
              "      background-color: #434B5C;\n",
              "      box-shadow: 0px 1px 3px 1px rgba(0, 0, 0, 0.15);\n",
              "      filter: drop-shadow(0px 1px 2px rgba(0, 0, 0, 0.3));\n",
              "      fill: #FFFFFF;\n",
              "    }\n",
              "  </style>\n",
              "\n",
              "    <script>\n",
              "      const buttonEl =\n",
              "        document.querySelector('#df-73127b21-a3f8-4bc6-8bc1-6319903848ba button.colab-df-convert');\n",
              "      buttonEl.style.display =\n",
              "        google.colab.kernel.accessAllowed ? 'block' : 'none';\n",
              "\n",
              "      async function convertToInteractive(key) {\n",
              "        const element = document.querySelector('#df-73127b21-a3f8-4bc6-8bc1-6319903848ba');\n",
              "        const dataTable =\n",
              "          await google.colab.kernel.invokeFunction('convertToInteractive',\n",
              "                                                    [key], {});\n",
              "        if (!dataTable) return;\n",
              "\n",
              "        const docLinkHtml = 'Like what you see? Visit the ' +\n",
              "          '<a target=\"_blank\" href=https://colab.research.google.com/notebooks/data_table.ipynb>data table notebook</a>'\n",
              "          + ' to learn more about interactive tables.';\n",
              "        element.innerHTML = '';\n",
              "        dataTable['output_type'] = 'display_data';\n",
              "        await google.colab.output.renderOutput(dataTable, element);\n",
              "        const docLink = document.createElement('div');\n",
              "        docLink.innerHTML = docLinkHtml;\n",
              "        element.appendChild(docLink);\n",
              "      }\n",
              "    </script>\n",
              "  </div>\n",
              "\n",
              "\n",
              "    <div id=\"df-190f58df-ab6c-46c1-9409-18485a8ae382\">\n",
              "      <button class=\"colab-df-quickchart\" onclick=\"quickchart('df-190f58df-ab6c-46c1-9409-18485a8ae382')\"\n",
              "                title=\"Suggest charts\"\n",
              "                style=\"display:none;\">\n",
              "\n",
              "<svg xmlns=\"http://www.w3.org/2000/svg\" height=\"24px\"viewBox=\"0 0 24 24\"\n",
              "     width=\"24px\">\n",
              "    <g>\n",
              "        <path d=\"M19 3H5c-1.1 0-2 .9-2 2v14c0 1.1.9 2 2 2h14c1.1 0 2-.9 2-2V5c0-1.1-.9-2-2-2zM9 17H7v-7h2v7zm4 0h-2V7h2v10zm4 0h-2v-4h2v4z\"/>\n",
              "    </g>\n",
              "</svg>\n",
              "      </button>\n",
              "\n",
              "<style>\n",
              "  .colab-df-quickchart {\n",
              "      --bg-color: #E8F0FE;\n",
              "      --fill-color: #1967D2;\n",
              "      --hover-bg-color: #E2EBFA;\n",
              "      --hover-fill-color: #174EA6;\n",
              "      --disabled-fill-color: #AAA;\n",
              "      --disabled-bg-color: #DDD;\n",
              "  }\n",
              "\n",
              "  [theme=dark] .colab-df-quickchart {\n",
              "      --bg-color: #3B4455;\n",
              "      --fill-color: #D2E3FC;\n",
              "      --hover-bg-color: #434B5C;\n",
              "      --hover-fill-color: #FFFFFF;\n",
              "      --disabled-bg-color: #3B4455;\n",
              "      --disabled-fill-color: #666;\n",
              "  }\n",
              "\n",
              "  .colab-df-quickchart {\n",
              "    background-color: var(--bg-color);\n",
              "    border: none;\n",
              "    border-radius: 50%;\n",
              "    cursor: pointer;\n",
              "    display: none;\n",
              "    fill: var(--fill-color);\n",
              "    height: 32px;\n",
              "    padding: 0;\n",
              "    width: 32px;\n",
              "  }\n",
              "\n",
              "  .colab-df-quickchart:hover {\n",
              "    background-color: var(--hover-bg-color);\n",
              "    box-shadow: 0 1px 2px rgba(60, 64, 67, 0.3), 0 1px 3px 1px rgba(60, 64, 67, 0.15);\n",
              "    fill: var(--button-hover-fill-color);\n",
              "  }\n",
              "\n",
              "  .colab-df-quickchart-complete:disabled,\n",
              "  .colab-df-quickchart-complete:disabled:hover {\n",
              "    background-color: var(--disabled-bg-color);\n",
              "    fill: var(--disabled-fill-color);\n",
              "    box-shadow: none;\n",
              "  }\n",
              "\n",
              "  .colab-df-spinner {\n",
              "    border: 2px solid var(--fill-color);\n",
              "    border-color: transparent;\n",
              "    border-bottom-color: var(--fill-color);\n",
              "    animation:\n",
              "      spin 1s steps(1) infinite;\n",
              "  }\n",
              "\n",
              "  @keyframes spin {\n",
              "    0% {\n",
              "      border-color: transparent;\n",
              "      border-bottom-color: var(--fill-color);\n",
              "      border-left-color: var(--fill-color);\n",
              "    }\n",
              "    20% {\n",
              "      border-color: transparent;\n",
              "      border-left-color: var(--fill-color);\n",
              "      border-top-color: var(--fill-color);\n",
              "    }\n",
              "    30% {\n",
              "      border-color: transparent;\n",
              "      border-left-color: var(--fill-color);\n",
              "      border-top-color: var(--fill-color);\n",
              "      border-right-color: var(--fill-color);\n",
              "    }\n",
              "    40% {\n",
              "      border-color: transparent;\n",
              "      border-right-color: var(--fill-color);\n",
              "      border-top-color: var(--fill-color);\n",
              "    }\n",
              "    60% {\n",
              "      border-color: transparent;\n",
              "      border-right-color: var(--fill-color);\n",
              "    }\n",
              "    80% {\n",
              "      border-color: transparent;\n",
              "      border-right-color: var(--fill-color);\n",
              "      border-bottom-color: var(--fill-color);\n",
              "    }\n",
              "    90% {\n",
              "      border-color: transparent;\n",
              "      border-bottom-color: var(--fill-color);\n",
              "    }\n",
              "  }\n",
              "</style>\n",
              "\n",
              "      <script>\n",
              "        async function quickchart(key) {\n",
              "          const quickchartButtonEl =\n",
              "            document.querySelector('#' + key + ' button');\n",
              "          quickchartButtonEl.disabled = true;  // To prevent multiple clicks.\n",
              "          quickchartButtonEl.classList.add('colab-df-spinner');\n",
              "          try {\n",
              "            const charts = await google.colab.kernel.invokeFunction(\n",
              "                'suggestCharts', [key], {});\n",
              "          } catch (error) {\n",
              "            console.error('Error during call to suggestCharts:', error);\n",
              "          }\n",
              "          quickchartButtonEl.classList.remove('colab-df-spinner');\n",
              "          quickchartButtonEl.classList.add('colab-df-quickchart-complete');\n",
              "        }\n",
              "        (() => {\n",
              "          let quickchartButtonEl =\n",
              "            document.querySelector('#df-190f58df-ab6c-46c1-9409-18485a8ae382 button');\n",
              "          quickchartButtonEl.style.display =\n",
              "            google.colab.kernel.accessAllowed ? 'block' : 'none';\n",
              "        })();\n",
              "      </script>\n",
              "    </div>\n",
              "\n",
              "    </div>\n",
              "  </div>\n"
            ],
            "application/vnd.google.colaboratory.intrinsic+json": {
              "type": "dataframe",
              "variable_name": "df",
              "summary": "{\n  \"name\": \"df\",\n  \"rows\": 220,\n  \"fields\": [\n    {\n      \"column\": \"Colesterol (mg/dL)\",\n      \"properties\": {\n        \"dtype\": \"number\",\n        \"std\": 19.3852100203369,\n        \"min\": 148.4261747699485,\n        \"max\": 258.2172629077049,\n        \"num_unique_values\": 220,\n        \"samples\": [\n          222.26151009973626,\n          153.68153820917564,\n          188.0115641588221\n        ],\n        \"semantic_type\": \"\",\n        \"description\": \"\"\n      }\n    }\n  ]\n}"
            }
          },
          "metadata": {},
          "execution_count": 4
        }
      ]
    },
    {
      "cell_type": "code",
      "source": [
        "df.columns = [\"colesterol\"]"
      ],
      "metadata": {
        "id": "QTInT1OwD9hn"
      },
      "execution_count": null,
      "outputs": []
    },
    {
      "cell_type": "code",
      "source": [
        "# média\n",
        "media_real = df[\"colesterol\"].mean()\n",
        "media_fmt = round(float(media_real), 2)\n",
        "\n",
        "# gráfico\n",
        "plt.figure(figsize=(10, 6))\n",
        "sns.histplot(df[\"colesterol\"], bins=20, kde=True, color=\"skyblue\", edgecolor=\"black\")\n",
        "plt.axvline(190, color=\"red\", linestyle=\"--\", label=\"Valor aceitável (190 mg/dL)\")\n",
        "plt.axvline(media_real, color=\"green\", linestyle=\"--\", label=f\"Média amostral ({media_fmt} mg/dL)\")\n",
        "\n",
        "plt.title(\"Distribuição dos níveis de colesterol dos colaboradores\")\n",
        "plt.xlabel(\"Colesterol (mg/dL)\")\n",
        "plt.ylabel(\"Frequência\")\n",
        "plt.legend()\n",
        "plt.grid(True)\n",
        "plt.tight_layout()\n",
        "plt.show()\n"
      ],
      "metadata": {
        "colab": {
          "base_uri": "https://localhost:8080/",
          "height": 607
        },
        "id": "nwsZItAME4gy",
        "outputId": "2fa88468-a0ec-496a-fc10-d0c28d16903a"
      },
      "execution_count": null,
      "outputs": [
        {
          "output_type": "display_data",
          "data": {
            "text/plain": [
              "<Figure size 1000x600 with 1 Axes>"
            ],
            "image/png": "[encoded data removed]"
          },
          "metadata": {}
        }
      ]
    },
    {
      "cell_type": "code",
      "source": [],
      "metadata": {
        "id": "4VZHfaUgFoMk"
      },
      "execution_count": null,
      "outputs": []
    },
    {
      "cell_type": "markdown",
      "source": [
        "a) Análise da Distribuição :\n",
        "O histograma mostra uma distribuição aproximadamente simétrica, com formato parecido ao de uma distribuição normal.\n",
        "\n",
        "Para confirmar, fizemos o Teste de Shapiro-Wilk:\n",
        "\n",
        "Estatística: 0.994\n",
        "\n",
        "Valor-p: 0.478\n",
        "\n",
        "Como o valor-p é maior que 0.05, não rejeitamos a hipótese nula de normalidade. Ou seja, os dados podem ser considerados normalmente distribuídos."
      ],
      "metadata": {
        "id": "bIUqfWsvFYwx"
      }
    },
    {
      "cell_type": "markdown",
      "source": [
        "b) Teste de Hipóteses\n",
        "Agora vamos realizar um teste t para verificar se a média do colesterol dos colaboradores é menor ou igual a 190 mg/dL (valor aceitável).\n",
        "A hipótese será:\n",
        "\n",
        "H₀ (nula): μ ≤ 190 (colesterol médio aceitável)\n",
        "\n",
        "H₁ (alternativa): μ > 190 (colesterol médio elevado)\n",
        "\n",
        "Vamos calcular agora."
      ],
      "metadata": {
        "id": "F53Gga5eFqCP"
      }
    },
    {
      "cell_type": "code",
      "source": [
        "# Teste t unilateral (média > 190)\n",
        "# H0: média <= 190\n",
        "# H1: média > 190\n",
        "\n",
        "media_aceitavel = 190\n",
        "t_statistic, p_value = stats.ttest_1samp(df[\"colesterol\"], popmean=media_aceitavel)\n",
        "\n",
        "# Como é um teste unilateral à direita, dividimos o p-valor por 2\n",
        "p_value_unilateral = p_value / 2\n",
        "\n",
        "# Verificar se a média é de fato maior que 190 antes de interpretar o p-valor\n",
        "media_real = df[\"colesterol\"].mean()\n",
        "\n",
        "\n",
        "t_statistic = round(float(t_statistic), 2)\n",
        "p_value = round(float(p_value_unilateral), 3)\n",
        "media = round(float(media_real), 2)\n",
        "\n",
        "t_statistic, p_value, media\n",
        "\n"
      ],
      "metadata": {
        "colab": {
          "base_uri": "https://localhost:8080/"
        },
        "id": "B7tOc4yKFvR6",
        "outputId": "681a4527-78c8-4fbc-e20f-e654f1963887"
      },
      "execution_count": null,
      "outputs": [
        {
          "output_type": "execute_result",
          "data": {
            "text/plain": [
              "(1.73, 0.043, 192.26)"
            ]
          },
          "metadata": {},
          "execution_count": 10
        }
      ]
    },
    {
      "cell_type": "markdown",
      "source": [
        "\n",
        "#### Hipóteses:\n",
        "- **H₀ (Hipótese nula):** μ ≤ 190 → o colesterol médio está dentro do aceitável.\n",
        "- **H₁ (Hipótese alternativa):** μ > 190 → o colesterol médio está acima do aceitável.\n",
        "\n",
        "Foi realizado um **teste t de uma amostra**, e como se trata de um teste **unilateral à direita**, o p-valor foi dividido por 2.\n",
        "\n",
        "---\n",
        "\n",
        "### Conclusão:\n",
        "\n",
        "A média de colesterol observada na amostra foi de **192,26 mg/dL**, um pouco acima do valor de referência de **190 mg/dL**.\n",
        "\n",
        "O teste t resultou em:\n",
        "\n",
        "- Estatística t = **1,73**  \n",
        "- Valor-p unilateral = **0,043**\n",
        "\n",
        "Como **p < 0,05**, **rejeitamos a hipótese nula**.\n",
        "\n",
        " **Conclusão final:** há evidência estatística de que o colesterol médio dos colaboradores **está acima do limite considerado aceitável**.\n"
      ],
      "metadata": {
        "id": "dAvF552IRZom"
      }
    }
  ]
}